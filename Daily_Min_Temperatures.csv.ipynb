{
 "cells": [
  {
   "cell_type": "markdown",
   "metadata": {},
   "source": [
    "## I. Load and Explore Time Series Data"
   ]
  },
  {
   "cell_type": "markdown",
   "metadata": {},
   "source": [
    "After finishing the courses of the Data Science track of IBM, I really want to do some small projects. I looked around for questions I might be interested and recognized that there are so many domains that Data Science can apply for. Then, I remembered the time I worked as a software engineer and built some modules on ERP projects. Could I do something on data that is importing from the ERP database? I come up with some questions:\n",
    "1. Predict sales\n",
    "2. Customer segmentation\n",
    "3. Customer churn\n",
    "4. HR recruitment\n",
    "With the knowledge I learnt from IBM courses, I think I can resolve the second and the third question. However, for the first question, I do not have knowledge on predicting. Then, I found the book \"Introduction to Time Series Forecasting with Python: How to Prepare Data and Develop Models to Predict the Future\" of Jason Brownlee. I feel lucky to buy this book because it is well written, and pretty for beginnners like me.\n",
    "I this part, I follow the codes/instructions of the Chapter 6 - Data Visualization."
   ]
  },
  {
   "cell_type": "code",
   "execution_count": 1,
   "metadata": {},
   "outputs": [],
   "source": [
    "# Importing necessary libraries\n",
    "import pandas as pd\n",
    "import numpy as np\n",
    "from matplotlib import pyplot\n",
    "import warnings\n",
    "warnings.filterwarnings('ignore')"
   ]
  },
  {
   "cell_type": "code",
   "execution_count": 2,
   "metadata": {},
   "outputs": [],
   "source": [
    "df = pd.read_csv('daily-min-temperatures.csv')"
   ]
  },
  {
   "cell_type": "code",
   "execution_count": 3,
   "metadata": {},
   "outputs": [
    {
     "data": {
      "text/html": [
       "<div>\n",
       "<style scoped>\n",
       "    .dataframe tbody tr th:only-of-type {\n",
       "        vertical-align: middle;\n",
       "    }\n",
       "\n",
       "    .dataframe tbody tr th {\n",
       "        vertical-align: top;\n",
       "    }\n",
       "\n",
       "    .dataframe thead th {\n",
       "        text-align: right;\n",
       "    }\n",
       "</style>\n",
       "<table border=\"1\" class=\"dataframe\">\n",
       "  <thead>\n",
       "    <tr style=\"text-align: right;\">\n",
       "      <th></th>\n",
       "      <th>Date</th>\n",
       "      <th>Temp</th>\n",
       "    </tr>\n",
       "  </thead>\n",
       "  <tbody>\n",
       "    <tr>\n",
       "      <th>0</th>\n",
       "      <td>1981-01-01</td>\n",
       "      <td>20.7</td>\n",
       "    </tr>\n",
       "    <tr>\n",
       "      <th>1</th>\n",
       "      <td>1981-01-02</td>\n",
       "      <td>17.9</td>\n",
       "    </tr>\n",
       "    <tr>\n",
       "      <th>2</th>\n",
       "      <td>1981-01-03</td>\n",
       "      <td>18.8</td>\n",
       "    </tr>\n",
       "    <tr>\n",
       "      <th>3</th>\n",
       "      <td>1981-01-04</td>\n",
       "      <td>14.6</td>\n",
       "    </tr>\n",
       "    <tr>\n",
       "      <th>4</th>\n",
       "      <td>1981-01-05</td>\n",
       "      <td>15.8</td>\n",
       "    </tr>\n",
       "  </tbody>\n",
       "</table>\n",
       "</div>"
      ],
      "text/plain": [
       "         Date  Temp\n",
       "0  1981-01-01  20.7\n",
       "1  1981-01-02  17.9\n",
       "2  1981-01-03  18.8\n",
       "3  1981-01-04  14.6\n",
       "4  1981-01-05  15.8"
      ]
     },
     "execution_count": 3,
     "metadata": {},
     "output_type": "execute_result"
    }
   ],
   "source": [
    "# To see first 5 rows of dataset\n",
    "df.head()"
   ]
  },
  {
   "cell_type": "code",
   "execution_count": 4,
   "metadata": {},
   "outputs": [
    {
     "data": {
      "text/plain": [
       "Date     object\n",
       "Temp    float64\n",
       "dtype: object"
      ]
     },
     "execution_count": 4,
     "metadata": {},
     "output_type": "execute_result"
    }
   ],
   "source": [
    "df.dtypes"
   ]
  },
  {
   "cell_type": "code",
   "execution_count": 5,
   "metadata": {},
   "outputs": [],
   "source": [
    "# convert Date column from object type to datetime type\n",
    "df['Date'] = pd.to_datetime(df['Date'])"
   ]
  },
  {
   "cell_type": "markdown",
   "metadata": {},
   "source": [
    "## II. Create new dataset with Lag Features"
   ]
  },
  {
   "cell_type": "code",
   "execution_count": 6,
   "metadata": {},
   "outputs": [],
   "source": [
    "dataframe = pd.DataFrame()\n",
    "dataframe['year'] = df['Date'].dt.year\n",
    "dataframe['month'] = df['Date'].dt.month\n",
    "dataframe['day'] = df['Date'].dt.day\n",
    "dataframe['t-2'] = df['Temp'].shift(3)\n",
    "dataframe['t-1'] = df['Temp'].shift(2)\n",
    "dataframe['t']   = df['Temp'].shift(1)\n",
    "dataframe['t+1'] = df['Temp']"
   ]
  },
  {
   "cell_type": "code",
   "execution_count": 7,
   "metadata": {},
   "outputs": [
    {
     "data": {
      "text/html": [
       "<div>\n",
       "<style scoped>\n",
       "    .dataframe tbody tr th:only-of-type {\n",
       "        vertical-align: middle;\n",
       "    }\n",
       "\n",
       "    .dataframe tbody tr th {\n",
       "        vertical-align: top;\n",
       "    }\n",
       "\n",
       "    .dataframe thead th {\n",
       "        text-align: right;\n",
       "    }\n",
       "</style>\n",
       "<table border=\"1\" class=\"dataframe\">\n",
       "  <thead>\n",
       "    <tr style=\"text-align: right;\">\n",
       "      <th></th>\n",
       "      <th>year</th>\n",
       "      <th>month</th>\n",
       "      <th>day</th>\n",
       "      <th>t-2</th>\n",
       "      <th>t-1</th>\n",
       "      <th>t</th>\n",
       "      <th>t+1</th>\n",
       "    </tr>\n",
       "  </thead>\n",
       "  <tbody>\n",
       "    <tr>\n",
       "      <th>0</th>\n",
       "      <td>1981</td>\n",
       "      <td>1</td>\n",
       "      <td>1</td>\n",
       "      <td>NaN</td>\n",
       "      <td>NaN</td>\n",
       "      <td>NaN</td>\n",
       "      <td>20.7</td>\n",
       "    </tr>\n",
       "    <tr>\n",
       "      <th>1</th>\n",
       "      <td>1981</td>\n",
       "      <td>1</td>\n",
       "      <td>2</td>\n",
       "      <td>NaN</td>\n",
       "      <td>NaN</td>\n",
       "      <td>20.7</td>\n",
       "      <td>17.9</td>\n",
       "    </tr>\n",
       "    <tr>\n",
       "      <th>2</th>\n",
       "      <td>1981</td>\n",
       "      <td>1</td>\n",
       "      <td>3</td>\n",
       "      <td>NaN</td>\n",
       "      <td>20.7</td>\n",
       "      <td>17.9</td>\n",
       "      <td>18.8</td>\n",
       "    </tr>\n",
       "    <tr>\n",
       "      <th>3</th>\n",
       "      <td>1981</td>\n",
       "      <td>1</td>\n",
       "      <td>4</td>\n",
       "      <td>20.7</td>\n",
       "      <td>17.9</td>\n",
       "      <td>18.8</td>\n",
       "      <td>14.6</td>\n",
       "    </tr>\n",
       "    <tr>\n",
       "      <th>4</th>\n",
       "      <td>1981</td>\n",
       "      <td>1</td>\n",
       "      <td>5</td>\n",
       "      <td>17.9</td>\n",
       "      <td>18.8</td>\n",
       "      <td>14.6</td>\n",
       "      <td>15.8</td>\n",
       "    </tr>\n",
       "    <tr>\n",
       "      <th>...</th>\n",
       "      <td>...</td>\n",
       "      <td>...</td>\n",
       "      <td>...</td>\n",
       "      <td>...</td>\n",
       "      <td>...</td>\n",
       "      <td>...</td>\n",
       "      <td>...</td>\n",
       "    </tr>\n",
       "    <tr>\n",
       "      <th>3645</th>\n",
       "      <td>1990</td>\n",
       "      <td>12</td>\n",
       "      <td>27</td>\n",
       "      <td>10.0</td>\n",
       "      <td>12.9</td>\n",
       "      <td>14.6</td>\n",
       "      <td>14.0</td>\n",
       "    </tr>\n",
       "    <tr>\n",
       "      <th>3646</th>\n",
       "      <td>1990</td>\n",
       "      <td>12</td>\n",
       "      <td>28</td>\n",
       "      <td>12.9</td>\n",
       "      <td>14.6</td>\n",
       "      <td>14.0</td>\n",
       "      <td>13.6</td>\n",
       "    </tr>\n",
       "    <tr>\n",
       "      <th>3647</th>\n",
       "      <td>1990</td>\n",
       "      <td>12</td>\n",
       "      <td>29</td>\n",
       "      <td>14.6</td>\n",
       "      <td>14.0</td>\n",
       "      <td>13.6</td>\n",
       "      <td>13.5</td>\n",
       "    </tr>\n",
       "    <tr>\n",
       "      <th>3648</th>\n",
       "      <td>1990</td>\n",
       "      <td>12</td>\n",
       "      <td>30</td>\n",
       "      <td>14.0</td>\n",
       "      <td>13.6</td>\n",
       "      <td>13.5</td>\n",
       "      <td>15.7</td>\n",
       "    </tr>\n",
       "    <tr>\n",
       "      <th>3649</th>\n",
       "      <td>1990</td>\n",
       "      <td>12</td>\n",
       "      <td>31</td>\n",
       "      <td>13.6</td>\n",
       "      <td>13.5</td>\n",
       "      <td>15.7</td>\n",
       "      <td>13.0</td>\n",
       "    </tr>\n",
       "  </tbody>\n",
       "</table>\n",
       "<p>3650 rows × 7 columns</p>\n",
       "</div>"
      ],
      "text/plain": [
       "      year  month  day   t-2   t-1     t   t+1\n",
       "0     1981      1    1   NaN   NaN   NaN  20.7\n",
       "1     1981      1    2   NaN   NaN  20.7  17.9\n",
       "2     1981      1    3   NaN  20.7  17.9  18.8\n",
       "3     1981      1    4  20.7  17.9  18.8  14.6\n",
       "4     1981      1    5  17.9  18.8  14.6  15.8\n",
       "...    ...    ...  ...   ...   ...   ...   ...\n",
       "3645  1990     12   27  10.0  12.9  14.6  14.0\n",
       "3646  1990     12   28  12.9  14.6  14.0  13.6\n",
       "3647  1990     12   29  14.6  14.0  13.6  13.5\n",
       "3648  1990     12   30  14.0  13.6  13.5  15.7\n",
       "3649  1990     12   31  13.6  13.5  15.7  13.0\n",
       "\n",
       "[3650 rows x 7 columns]"
      ]
     },
     "execution_count": 7,
     "metadata": {},
     "output_type": "execute_result"
    }
   ],
   "source": [
    "dataframe"
   ]
  },
  {
   "cell_type": "code",
   "execution_count": 8,
   "metadata": {},
   "outputs": [
    {
     "data": {
      "text/html": [
       "<div>\n",
       "<style scoped>\n",
       "    .dataframe tbody tr th:only-of-type {\n",
       "        vertical-align: middle;\n",
       "    }\n",
       "\n",
       "    .dataframe tbody tr th {\n",
       "        vertical-align: top;\n",
       "    }\n",
       "\n",
       "    .dataframe thead th {\n",
       "        text-align: right;\n",
       "    }\n",
       "</style>\n",
       "<table border=\"1\" class=\"dataframe\">\n",
       "  <thead>\n",
       "    <tr style=\"text-align: right;\">\n",
       "      <th></th>\n",
       "      <th>year</th>\n",
       "      <th>month</th>\n",
       "      <th>day</th>\n",
       "      <th>t-2</th>\n",
       "      <th>t-1</th>\n",
       "      <th>t</th>\n",
       "      <th>t+1</th>\n",
       "    </tr>\n",
       "  </thead>\n",
       "  <tbody>\n",
       "    <tr>\n",
       "      <th>3</th>\n",
       "      <td>1981</td>\n",
       "      <td>1</td>\n",
       "      <td>4</td>\n",
       "      <td>20.7</td>\n",
       "      <td>17.9</td>\n",
       "      <td>18.8</td>\n",
       "      <td>14.6</td>\n",
       "    </tr>\n",
       "    <tr>\n",
       "      <th>4</th>\n",
       "      <td>1981</td>\n",
       "      <td>1</td>\n",
       "      <td>5</td>\n",
       "      <td>17.9</td>\n",
       "      <td>18.8</td>\n",
       "      <td>14.6</td>\n",
       "      <td>15.8</td>\n",
       "    </tr>\n",
       "    <tr>\n",
       "      <th>5</th>\n",
       "      <td>1981</td>\n",
       "      <td>1</td>\n",
       "      <td>6</td>\n",
       "      <td>18.8</td>\n",
       "      <td>14.6</td>\n",
       "      <td>15.8</td>\n",
       "      <td>15.8</td>\n",
       "    </tr>\n",
       "    <tr>\n",
       "      <th>6</th>\n",
       "      <td>1981</td>\n",
       "      <td>1</td>\n",
       "      <td>7</td>\n",
       "      <td>14.6</td>\n",
       "      <td>15.8</td>\n",
       "      <td>15.8</td>\n",
       "      <td>15.8</td>\n",
       "    </tr>\n",
       "    <tr>\n",
       "      <th>7</th>\n",
       "      <td>1981</td>\n",
       "      <td>1</td>\n",
       "      <td>8</td>\n",
       "      <td>15.8</td>\n",
       "      <td>15.8</td>\n",
       "      <td>15.8</td>\n",
       "      <td>17.4</td>\n",
       "    </tr>\n",
       "    <tr>\n",
       "      <th>...</th>\n",
       "      <td>...</td>\n",
       "      <td>...</td>\n",
       "      <td>...</td>\n",
       "      <td>...</td>\n",
       "      <td>...</td>\n",
       "      <td>...</td>\n",
       "      <td>...</td>\n",
       "    </tr>\n",
       "    <tr>\n",
       "      <th>3645</th>\n",
       "      <td>1990</td>\n",
       "      <td>12</td>\n",
       "      <td>27</td>\n",
       "      <td>10.0</td>\n",
       "      <td>12.9</td>\n",
       "      <td>14.6</td>\n",
       "      <td>14.0</td>\n",
       "    </tr>\n",
       "    <tr>\n",
       "      <th>3646</th>\n",
       "      <td>1990</td>\n",
       "      <td>12</td>\n",
       "      <td>28</td>\n",
       "      <td>12.9</td>\n",
       "      <td>14.6</td>\n",
       "      <td>14.0</td>\n",
       "      <td>13.6</td>\n",
       "    </tr>\n",
       "    <tr>\n",
       "      <th>3647</th>\n",
       "      <td>1990</td>\n",
       "      <td>12</td>\n",
       "      <td>29</td>\n",
       "      <td>14.6</td>\n",
       "      <td>14.0</td>\n",
       "      <td>13.6</td>\n",
       "      <td>13.5</td>\n",
       "    </tr>\n",
       "    <tr>\n",
       "      <th>3648</th>\n",
       "      <td>1990</td>\n",
       "      <td>12</td>\n",
       "      <td>30</td>\n",
       "      <td>14.0</td>\n",
       "      <td>13.6</td>\n",
       "      <td>13.5</td>\n",
       "      <td>15.7</td>\n",
       "    </tr>\n",
       "    <tr>\n",
       "      <th>3649</th>\n",
       "      <td>1990</td>\n",
       "      <td>12</td>\n",
       "      <td>31</td>\n",
       "      <td>13.6</td>\n",
       "      <td>13.5</td>\n",
       "      <td>15.7</td>\n",
       "      <td>13.0</td>\n",
       "    </tr>\n",
       "  </tbody>\n",
       "</table>\n",
       "<p>3647 rows × 7 columns</p>\n",
       "</div>"
      ],
      "text/plain": [
       "      year  month  day   t-2   t-1     t   t+1\n",
       "3     1981      1    4  20.7  17.9  18.8  14.6\n",
       "4     1981      1    5  17.9  18.8  14.6  15.8\n",
       "5     1981      1    6  18.8  14.6  15.8  15.8\n",
       "6     1981      1    7  14.6  15.8  15.8  15.8\n",
       "7     1981      1    8  15.8  15.8  15.8  17.4\n",
       "...    ...    ...  ...   ...   ...   ...   ...\n",
       "3645  1990     12   27  10.0  12.9  14.6  14.0\n",
       "3646  1990     12   28  12.9  14.6  14.0  13.6\n",
       "3647  1990     12   29  14.6  14.0  13.6  13.5\n",
       "3648  1990     12   30  14.0  13.6  13.5  15.7\n",
       "3649  1990     12   31  13.6  13.5  15.7  13.0\n",
       "\n",
       "[3647 rows x 7 columns]"
      ]
     },
     "execution_count": 8,
     "metadata": {},
     "output_type": "execute_result"
    }
   ],
   "source": [
    "# we must discard the first few rows that do not have enough data to train a supervised model.\n",
    "dataframe.dropna(axis='rows', how='any')"
   ]
  },
  {
   "cell_type": "code",
   "execution_count": 9,
   "metadata": {},
   "outputs": [
    {
     "data": {
      "text/html": [
       "<div>\n",
       "<style scoped>\n",
       "    .dataframe tbody tr th:only-of-type {\n",
       "        vertical-align: middle;\n",
       "    }\n",
       "\n",
       "    .dataframe tbody tr th {\n",
       "        vertical-align: top;\n",
       "    }\n",
       "\n",
       "    .dataframe thead th {\n",
       "        text-align: right;\n",
       "    }\n",
       "</style>\n",
       "<table border=\"1\" class=\"dataframe\">\n",
       "  <thead>\n",
       "    <tr style=\"text-align: right;\">\n",
       "      <th></th>\n",
       "      <th>Date</th>\n",
       "      <th>Temp</th>\n",
       "    </tr>\n",
       "  </thead>\n",
       "  <tbody>\n",
       "    <tr>\n",
       "      <th>0</th>\n",
       "      <td>1981-01-01</td>\n",
       "      <td>20.7</td>\n",
       "    </tr>\n",
       "    <tr>\n",
       "      <th>1</th>\n",
       "      <td>1981-01-02</td>\n",
       "      <td>17.9</td>\n",
       "    </tr>\n",
       "    <tr>\n",
       "      <th>2</th>\n",
       "      <td>1981-01-03</td>\n",
       "      <td>18.8</td>\n",
       "    </tr>\n",
       "    <tr>\n",
       "      <th>3</th>\n",
       "      <td>1981-01-04</td>\n",
       "      <td>14.6</td>\n",
       "    </tr>\n",
       "    <tr>\n",
       "      <th>4</th>\n",
       "      <td>1981-01-05</td>\n",
       "      <td>15.8</td>\n",
       "    </tr>\n",
       "  </tbody>\n",
       "</table>\n",
       "</div>"
      ],
      "text/plain": [
       "        Date  Temp\n",
       "0 1981-01-01  20.7\n",
       "1 1981-01-02  17.9\n",
       "2 1981-01-03  18.8\n",
       "3 1981-01-04  14.6\n",
       "4 1981-01-05  15.8"
      ]
     },
     "execution_count": 9,
     "metadata": {},
     "output_type": "execute_result"
    }
   ],
   "source": [
    "df.head()"
   ]
  },
  {
   "cell_type": "markdown",
   "metadata": {},
   "source": [
    "## III. Time Series Visualization"
   ]
  },
  {
   "cell_type": "markdown",
   "metadata": {},
   "source": [
    "### 1. Line plot"
   ]
  },
  {
   "cell_type": "markdown",
   "metadata": {},
   "source": [
    "First, we try to visualize the pandas series of Minimum Daily Temperatures dataset directly as a line plot, the most popular for visualizing for time series. In this plot, time is shown on the x-axis with temperature observation values along the y-axis. "
   ]
  },
  {
   "cell_type": "code",
   "execution_count": 10,
   "metadata": {},
   "outputs": [
    {
     "data": {
      "image/png": "[encoded data removed]",
      "text/plain": [
       "<Figure size 432x288 with 1 Axes>"
      ]
     },
     "metadata": {
      "needs_background": "light"
     },
     "output_type": "display_data"
    }
   ],
   "source": [
    "# create a line plot from pandas\n",
    "df = pd.read_csv('daily-min-temperatures.csv', header=0, index_col=0, parse_dates=True, squeeze=True)\n",
    "df.plot()\n",
    "pyplot.show()"
   ]
  },
  {
   "cell_type": "markdown",
   "metadata": {},
   "source": [
    "It can be helpful to compare line plots for the same interval, such as from day-to-day,\n",
    "month-to-month, and year-to-year. The Minimum Daily Temperatures dataset spans 10\n",
    "years. We can group data by year and create a line plot for each year for direct comparison. The example below shows how to do this. First the observations are grouped by year\n",
    "(series.groupby(Grouper(freq='A')))."
   ]
  },
  {
   "cell_type": "code",
   "execution_count": 11,
   "metadata": {},
   "outputs": [],
   "source": [
    "# df.groupby(pd.Grouper(key=\"\", freq=\"1W\"))\n",
    "# W: weekly frequency\n",
    "# M: month end frequency\n",
    "# B: business day frequency\n",
    "# A, Y: year end frequency\n",
    "df = pd.read_csv('daily-min-temperatures.csv', header=0, index_col=0, parse_dates=True, squeeze=True)"
   ]
  },
  {
   "cell_type": "code",
   "execution_count": 12,
   "metadata": {},
   "outputs": [
    {
     "data": {
      "text/plain": [
       "Date\n",
       "1981-01-01    20.7\n",
       "1981-01-02    17.9\n",
       "1981-01-03    18.8\n",
       "1981-01-04    14.6\n",
       "1981-01-05    15.8\n",
       "1982-01-01    17.0\n",
       "1982-01-02    15.0\n",
       "1982-01-03    13.5\n",
       "1982-01-04    15.2\n",
       "1982-01-05    13.0\n",
       "1983-01-01    18.4\n",
       "1983-01-02    15.0\n",
       "1983-01-03    10.9\n",
       "1983-01-04    11.4\n",
       "1983-01-05    14.8\n",
       "1984-01-01    19.5\n",
       "1984-01-02    17.1\n",
       "1984-01-03    17.1\n",
       "1984-01-04    12.0\n",
       "1984-01-05    11.0\n",
       "1985-01-01    13.3\n",
       "1985-01-02    15.2\n",
       "1985-01-03    13.1\n",
       "1985-01-04    12.7\n",
       "1985-01-05    14.6\n",
       "1986-01-01    12.9\n",
       "1986-01-02    13.8\n",
       "1986-01-03    10.6\n",
       "1986-01-04    12.6\n",
       "1986-01-05    13.7\n",
       "1987-01-01    12.3\n",
       "1987-01-02    13.8\n",
       "1987-01-03    15.3\n",
       "1987-01-04    15.6\n",
       "1987-01-05    16.2\n",
       "1988-01-01    15.3\n",
       "1988-01-02    14.3\n",
       "1988-01-03    13.5\n",
       "1988-01-04    15.0\n",
       "1988-01-05    13.6\n",
       "1989-01-01    14.3\n",
       "1989-01-02    17.4\n",
       "1989-01-03    18.5\n",
       "1989-01-04    16.8\n",
       "1989-01-05    11.5\n",
       "1990-01-01    14.8\n",
       "1990-01-02    13.3\n",
       "1990-01-03    15.6\n",
       "1990-01-04    14.5\n",
       "1990-01-05    14.3\n",
       "Name: Temp, dtype: float64"
      ]
     },
     "execution_count": 12,
     "metadata": {},
     "output_type": "execute_result"
    }
   ],
   "source": [
    "groups = df.groupby(pd.Grouper(freq=\"A\"))\n",
    "groups.head()"
   ]
  },
  {
   "cell_type": "code",
   "execution_count": 13,
   "metadata": {},
   "outputs": [
    {
     "data": {
      "text/html": [
       "<div>\n",
       "<style scoped>\n",
       "    .dataframe tbody tr th:only-of-type {\n",
       "        vertical-align: middle;\n",
       "    }\n",
       "\n",
       "    .dataframe tbody tr th {\n",
       "        vertical-align: top;\n",
       "    }\n",
       "\n",
       "    .dataframe thead th {\n",
       "        text-align: right;\n",
       "    }\n",
       "</style>\n",
       "<table border=\"1\" class=\"dataframe\">\n",
       "  <thead>\n",
       "    <tr style=\"text-align: right;\">\n",
       "      <th></th>\n",
       "      <th>1981</th>\n",
       "      <th>1982</th>\n",
       "      <th>1983</th>\n",
       "      <th>1984</th>\n",
       "      <th>1985</th>\n",
       "      <th>1986</th>\n",
       "      <th>1987</th>\n",
       "      <th>1988</th>\n",
       "      <th>1989</th>\n",
       "      <th>1990</th>\n",
       "    </tr>\n",
       "  </thead>\n",
       "  <tbody>\n",
       "    <tr>\n",
       "      <th>0</th>\n",
       "      <td>20.7</td>\n",
       "      <td>17.0</td>\n",
       "      <td>18.4</td>\n",
       "      <td>19.5</td>\n",
       "      <td>13.3</td>\n",
       "      <td>12.9</td>\n",
       "      <td>12.3</td>\n",
       "      <td>15.3</td>\n",
       "      <td>14.3</td>\n",
       "      <td>14.8</td>\n",
       "    </tr>\n",
       "    <tr>\n",
       "      <th>1</th>\n",
       "      <td>17.9</td>\n",
       "      <td>15.0</td>\n",
       "      <td>15.0</td>\n",
       "      <td>17.1</td>\n",
       "      <td>15.2</td>\n",
       "      <td>13.8</td>\n",
       "      <td>13.8</td>\n",
       "      <td>14.3</td>\n",
       "      <td>17.4</td>\n",
       "      <td>13.3</td>\n",
       "    </tr>\n",
       "    <tr>\n",
       "      <th>2</th>\n",
       "      <td>18.8</td>\n",
       "      <td>13.5</td>\n",
       "      <td>10.9</td>\n",
       "      <td>17.1</td>\n",
       "      <td>13.1</td>\n",
       "      <td>10.6</td>\n",
       "      <td>15.3</td>\n",
       "      <td>13.5</td>\n",
       "      <td>18.5</td>\n",
       "      <td>15.6</td>\n",
       "    </tr>\n",
       "    <tr>\n",
       "      <th>3</th>\n",
       "      <td>14.6</td>\n",
       "      <td>15.2</td>\n",
       "      <td>11.4</td>\n",
       "      <td>12.0</td>\n",
       "      <td>12.7</td>\n",
       "      <td>12.6</td>\n",
       "      <td>15.6</td>\n",
       "      <td>15.0</td>\n",
       "      <td>16.8</td>\n",
       "      <td>14.5</td>\n",
       "    </tr>\n",
       "    <tr>\n",
       "      <th>4</th>\n",
       "      <td>15.8</td>\n",
       "      <td>13.0</td>\n",
       "      <td>14.8</td>\n",
       "      <td>11.0</td>\n",
       "      <td>14.6</td>\n",
       "      <td>13.7</td>\n",
       "      <td>16.2</td>\n",
       "      <td>13.6</td>\n",
       "      <td>11.5</td>\n",
       "      <td>14.3</td>\n",
       "    </tr>\n",
       "  </tbody>\n",
       "</table>\n",
       "</div>"
      ],
      "text/plain": [
       "   1981  1982  1983  1984  1985  1986  1987  1988  1989  1990\n",
       "0  20.7  17.0  18.4  19.5  13.3  12.9  12.3  15.3  14.3  14.8\n",
       "1  17.9  15.0  15.0  17.1  15.2  13.8  13.8  14.3  17.4  13.3\n",
       "2  18.8  13.5  10.9  17.1  13.1  10.6  15.3  13.5  18.5  15.6\n",
       "3  14.6  15.2  11.4  12.0  12.7  12.6  15.6  15.0  16.8  14.5\n",
       "4  15.8  13.0  14.8  11.0  14.6  13.7  16.2  13.6  11.5  14.3"
      ]
     },
     "execution_count": 13,
     "metadata": {},
     "output_type": "execute_result"
    }
   ],
   "source": [
    "years = pd.DataFrame()\n",
    "for group, g_data in groups:\n",
    "    years[group.year] = g_data.values\n",
    "\n",
    "years.head()"
   ]
  },
  {
   "cell_type": "code",
   "execution_count": 14,
   "metadata": {},
   "outputs": [
    {
     "data": {
      "image/png": "[encoded data removed]",
      "text/plain": [
       "<Figure size 432x288 with 10 Axes>"
      ]
     },
     "metadata": {
      "needs_background": "light"
     },
     "output_type": "display_data"
    }
   ],
   "source": [
    "years.plot(subplots=True, legend=False)\n",
    "pyplot.show()"
   ]
  },
  {
   "cell_type": "markdown",
   "metadata": {},
   "source": [
    "### 2. Histogram and Density Plots"
   ]
  },
  {
   "cell_type": "code",
   "execution_count": 15,
   "metadata": {},
   "outputs": [
    {
     "data": {
      "text/plain": [
       "array([[<AxesSubplot:title={'center':'Temp'}>]], dtype=object)"
      ]
     },
     "execution_count": 15,
     "metadata": {},
     "output_type": "execute_result"
    },
    {
     "data": {
      "image/png": "[encoded data removed]",
      "text/plain": [
       "<Figure size 432x288 with 1 Axes>"
      ]
     },
     "metadata": {
      "needs_background": "light"
     },
     "output_type": "display_data"
    }
   ],
   "source": [
    "series = pd.read_csv('daily-min-temperatures.csv')\n",
    "series.hist()"
   ]
  },
  {
   "cell_type": "code",
   "execution_count": 16,
   "metadata": {},
   "outputs": [
    {
     "data": {
      "text/plain": [
       "<AxesSubplot:ylabel='Density'>"
      ]
     },
     "execution_count": 16,
     "metadata": {},
     "output_type": "execute_result"
    },
    {
     "data": {
      "image/png": "[encoded data removed]",
      "text/plain": [
       "<Figure size 432x288 with 1 Axes>"
      ]
     },
     "metadata": {
      "needs_background": "light"
     },
     "output_type": "display_data"
    }
   ],
   "source": [
    "series.plot(kind='kde')"
   ]
  },
  {
   "cell_type": "markdown",
   "metadata": {},
   "source": [
    "### 3. Box and Whisker Plots by Interval"
   ]
  },
  {
   "cell_type": "code",
   "execution_count": 17,
   "metadata": {},
   "outputs": [
    {
     "data": {
      "image/png": "[encoded data removed]",
      "text/plain": [
       "<Figure size 432x288 with 1 Axes>"
      ]
     },
     "metadata": {
      "needs_background": "light"
     },
     "output_type": "display_data"
    }
   ],
   "source": [
    "groups = df.groupby(pd.Grouper(freq=\"A\"))\n",
    "years = pd.DataFrame()\n",
    "\n",
    "for group, g_data in groups:\n",
    "    years[group.year] = g_data.values\n",
    "\n",
    "years.boxplot()\n",
    "pyplot.show()"
   ]
  },
  {
   "cell_type": "markdown",
   "metadata": {},
   "source": [
    "We may also be interested in the distribution of values across months within a year. The\n",
    "example below creates 12 box and whisker plots, one for each month of 1990, the last year in the\n",
    "dataset. In the example, \f",
    "rst, only observations from 1990 are extracted. Then, the observations\n",
    "are grouped by month, and each month is added to a new DataFrame as a column. Finally, a\n",
    "box and whisker plot is created for each month-column in the newly constructed DataFrame."
   ]
  },
  {
   "cell_type": "code",
   "execution_count": 19,
   "metadata": {},
   "outputs": [
    {
     "data": {
      "text/plain": [
       "Date\n",
       "1990-01-01    14.8\n",
       "1990-01-02    13.3\n",
       "1990-01-03    15.6\n",
       "1990-01-04    14.5\n",
       "1990-01-05    14.3\n",
       "Name: Temp, dtype: float64"
      ]
     },
     "execution_count": 19,
     "metadata": {},
     "output_type": "execute_result"
    }
   ],
   "source": [
    "df_year1990 = df['1990']\n",
    "df_year1990.head()"
   ]
  },
  {
   "cell_type": "code",
   "execution_count": 26,
   "metadata": {},
   "outputs": [
    {
     "data": {
      "text/plain": [
       "Date\n",
       "1990-01-01    14.8\n",
       "1990-01-02    13.3\n",
       "1990-01-03    15.6\n",
       "1990-01-04    14.5\n",
       "1990-01-05    14.3\n",
       "1990-02-01    12.0\n",
       "1990-02-02    12.2\n",
       "1990-02-03    14.8\n",
       "1990-02-04    14.8\n",
       "1990-02-05    14.4\n",
       "1990-03-01    19.3\n",
       "1990-03-02    17.3\n",
       "1990-03-03    19.0\n",
       "1990-03-04    19.8\n",
       "1990-03-05    19.3\n",
       "1990-04-01    15.3\n",
       "1990-04-02    14.7\n",
       "1990-04-03    11.0\n",
       "1990-04-04    12.2\n",
       "1990-04-05    14.2\n",
       "1990-05-01    13.0\n",
       "1990-05-02    13.9\n",
       "1990-05-03    12.6\n",
       "1990-05-04    14.3\n",
       "1990-05-05    16.0\n",
       "1990-06-01     9.7\n",
       "1990-06-02     8.2\n",
       "1990-06-03     8.4\n",
       "1990-06-04     8.5\n",
       "1990-06-05    10.4\n",
       "1990-07-01     7.4\n",
       "1990-07-02     7.3\n",
       "1990-07-03     7.7\n",
       "1990-07-04     7.7\n",
       "1990-07-05     9.3\n",
       "1990-08-01     6.8\n",
       "1990-08-02     9.8\n",
       "1990-08-03     5.7\n",
       "1990-08-04     8.6\n",
       "1990-08-05    10.6\n",
       "1990-09-01     6.0\n",
       "1990-09-02     9.5\n",
       "1990-09-03     8.6\n",
       "1990-09-04     7.6\n",
       "1990-09-05    10.4\n",
       "1990-10-01    11.3\n",
       "1990-10-02    10.5\n",
       "1990-10-03     9.9\n",
       "1990-10-04    11.0\n",
       "1990-10-05    14.0\n",
       "1990-11-01    15.4\n",
       "1990-11-02    11.8\n",
       "1990-11-03    13.0\n",
       "1990-11-04    11.1\n",
       "1990-11-05    12.5\n",
       "1990-12-01    13.3\n",
       "1990-12-02    13.2\n",
       "1990-12-03    16.2\n",
       "1990-12-04    17.3\n",
       "1990-12-05    20.5\n",
       "Name: Temp, dtype: float64"
      ]
     },
     "execution_count": 26,
     "metadata": {},
     "output_type": "execute_result"
    }
   ],
   "source": [
    "g_MonthsOf1990 = df_year1990.groupby(pd.Grouper(freq=\"M\"))\n",
    "g_MonthsOf1990.head()"
   ]
  },
  {
   "cell_type": "code",
   "execution_count": 39,
   "metadata": {},
   "outputs": [
    {
     "data": {
      "image/png": "[encoded data removed]",
      "text/plain": [
       "<Figure size 432x288 with 1 Axes>"
      ]
     },
     "metadata": {
      "needs_background": "light"
     },
     "output_type": "display_data"
    }
   ],
   "source": [
    "months = pd.DataFrame()\n",
    "for group, g_data in g_MonthsOf1990:\n",
    "    months[group.month] = pd.Series(g_data.values)\n",
    "    \n",
    "months.boxplot()\n",
    "pyplot.show()"
   ]
  },
  {
   "cell_type": "code",
   "execution_count": null,
   "metadata": {},
   "outputs": [],
   "source": [
    "Another way to do that is to combines these series"
   ]
  },
  {
   "cell_type": "code",
   "execution_count": 45,
   "metadata": {},
   "outputs": [
    {
     "data": {
      "text/plain": [
       "<AxesSubplot:>"
      ]
     },
     "execution_count": 45,
     "metadata": {},
     "output_type": "execute_result"
    },
    {
     "data": {
      "image/png": "[encoded data removed]",
      "text/plain": [
       "<Figure size 432x288 with 1 Axes>"
      ]
     },
     "metadata": {
      "needs_background": "light"
     },
     "output_type": "display_data"
    }
   ],
   "source": [
    "series = pd.read_csv('daily-min-temperatures.csv', header=0, index_col=0,parse_dates=True, squeeze=True)\n",
    "one_year = series['1990']\n",
    "\n",
    "groups = one_year.groupby(pd.Grouper(freq='M'))\n",
    "\n",
    "months = pd.concat([pd.DataFrame(x[1].values) for x in groups], axis=1)\n",
    "months = pd.DataFrame(months)\n",
    "months.columns = range(1,13)\n",
    "months.boxplot()"
   ]
  },
  {
   "cell_type": "markdown",
   "metadata": {},
   "source": [
    "Running the example creates 12 box and whisker plots, showing the significant change in distribution of minimum temperatures across the months of the year from the Southern Hemisphere summer in January to the Southern Hemisphere winter in the middle of the year, and back to summer again."
   ]
  },
  {
   "cell_type": "markdown",
   "metadata": {},
   "source": [
    "### 4. Heat Maps"
   ]
  },
  {
   "cell_type": "code",
   "execution_count": 46,
   "metadata": {},
   "outputs": [
    {
     "data": {
      "text/html": [
       "<div>\n",
       "<style scoped>\n",
       "    .dataframe tbody tr th:only-of-type {\n",
       "        vertical-align: middle;\n",
       "    }\n",
       "\n",
       "    .dataframe tbody tr th {\n",
       "        vertical-align: top;\n",
       "    }\n",
       "\n",
       "    .dataframe thead th {\n",
       "        text-align: right;\n",
       "    }\n",
       "</style>\n",
       "<table border=\"1\" class=\"dataframe\">\n",
       "  <thead>\n",
       "    <tr style=\"text-align: right;\">\n",
       "      <th></th>\n",
       "      <th>1981</th>\n",
       "      <th>1982</th>\n",
       "      <th>1983</th>\n",
       "      <th>1984</th>\n",
       "      <th>1985</th>\n",
       "      <th>1986</th>\n",
       "      <th>1987</th>\n",
       "      <th>1988</th>\n",
       "      <th>1989</th>\n",
       "      <th>1990</th>\n",
       "    </tr>\n",
       "  </thead>\n",
       "  <tbody>\n",
       "    <tr>\n",
       "      <th>0</th>\n",
       "      <td>20.7</td>\n",
       "      <td>17.0</td>\n",
       "      <td>18.4</td>\n",
       "      <td>19.5</td>\n",
       "      <td>13.3</td>\n",
       "      <td>12.9</td>\n",
       "      <td>12.3</td>\n",
       "      <td>15.3</td>\n",
       "      <td>14.3</td>\n",
       "      <td>14.8</td>\n",
       "    </tr>\n",
       "    <tr>\n",
       "      <th>1</th>\n",
       "      <td>17.9</td>\n",
       "      <td>15.0</td>\n",
       "      <td>15.0</td>\n",
       "      <td>17.1</td>\n",
       "      <td>15.2</td>\n",
       "      <td>13.8</td>\n",
       "      <td>13.8</td>\n",
       "      <td>14.3</td>\n",
       "      <td>17.4</td>\n",
       "      <td>13.3</td>\n",
       "    </tr>\n",
       "    <tr>\n",
       "      <th>2</th>\n",
       "      <td>18.8</td>\n",
       "      <td>13.5</td>\n",
       "      <td>10.9</td>\n",
       "      <td>17.1</td>\n",
       "      <td>13.1</td>\n",
       "      <td>10.6</td>\n",
       "      <td>15.3</td>\n",
       "      <td>13.5</td>\n",
       "      <td>18.5</td>\n",
       "      <td>15.6</td>\n",
       "    </tr>\n",
       "    <tr>\n",
       "      <th>3</th>\n",
       "      <td>14.6</td>\n",
       "      <td>15.2</td>\n",
       "      <td>11.4</td>\n",
       "      <td>12.0</td>\n",
       "      <td>12.7</td>\n",
       "      <td>12.6</td>\n",
       "      <td>15.6</td>\n",
       "      <td>15.0</td>\n",
       "      <td>16.8</td>\n",
       "      <td>14.5</td>\n",
       "    </tr>\n",
       "    <tr>\n",
       "      <th>4</th>\n",
       "      <td>15.8</td>\n",
       "      <td>13.0</td>\n",
       "      <td>14.8</td>\n",
       "      <td>11.0</td>\n",
       "      <td>14.6</td>\n",
       "      <td>13.7</td>\n",
       "      <td>16.2</td>\n",
       "      <td>13.6</td>\n",
       "      <td>11.5</td>\n",
       "      <td>14.3</td>\n",
       "    </tr>\n",
       "    <tr>\n",
       "      <th>...</th>\n",
       "      <td>...</td>\n",
       "      <td>...</td>\n",
       "      <td>...</td>\n",
       "      <td>...</td>\n",
       "      <td>...</td>\n",
       "      <td>...</td>\n",
       "      <td>...</td>\n",
       "      <td>...</td>\n",
       "      <td>...</td>\n",
       "      <td>...</td>\n",
       "    </tr>\n",
       "    <tr>\n",
       "      <th>360</th>\n",
       "      <td>15.5</td>\n",
       "      <td>15.3</td>\n",
       "      <td>13.9</td>\n",
       "      <td>12.2</td>\n",
       "      <td>11.5</td>\n",
       "      <td>14.6</td>\n",
       "      <td>16.2</td>\n",
       "      <td>9.5</td>\n",
       "      <td>13.3</td>\n",
       "      <td>14.0</td>\n",
       "    </tr>\n",
       "    <tr>\n",
       "      <th>361</th>\n",
       "      <td>13.3</td>\n",
       "      <td>16.3</td>\n",
       "      <td>11.1</td>\n",
       "      <td>12.0</td>\n",
       "      <td>10.8</td>\n",
       "      <td>14.2</td>\n",
       "      <td>14.2</td>\n",
       "      <td>12.9</td>\n",
       "      <td>11.7</td>\n",
       "      <td>13.6</td>\n",
       "    </tr>\n",
       "    <tr>\n",
       "      <th>362</th>\n",
       "      <td>15.6</td>\n",
       "      <td>15.8</td>\n",
       "      <td>16.1</td>\n",
       "      <td>12.6</td>\n",
       "      <td>12.0</td>\n",
       "      <td>13.2</td>\n",
       "      <td>14.3</td>\n",
       "      <td>12.9</td>\n",
       "      <td>10.4</td>\n",
       "      <td>13.5</td>\n",
       "    </tr>\n",
       "    <tr>\n",
       "      <th>363</th>\n",
       "      <td>15.2</td>\n",
       "      <td>17.7</td>\n",
       "      <td>20.4</td>\n",
       "      <td>16.0</td>\n",
       "      <td>16.3</td>\n",
       "      <td>11.7</td>\n",
       "      <td>13.3</td>\n",
       "      <td>14.8</td>\n",
       "      <td>14.4</td>\n",
       "      <td>15.7</td>\n",
       "    </tr>\n",
       "    <tr>\n",
       "      <th>364</th>\n",
       "      <td>17.4</td>\n",
       "      <td>16.3</td>\n",
       "      <td>18.0</td>\n",
       "      <td>16.4</td>\n",
       "      <td>14.4</td>\n",
       "      <td>17.2</td>\n",
       "      <td>16.7</td>\n",
       "      <td>14.1</td>\n",
       "      <td>12.7</td>\n",
       "      <td>13.0</td>\n",
       "    </tr>\n",
       "  </tbody>\n",
       "</table>\n",
       "<p>365 rows × 10 columns</p>\n",
       "</div>"
      ],
      "text/plain": [
       "     1981  1982  1983  1984  1985  1986  1987  1988  1989  1990\n",
       "0    20.7  17.0  18.4  19.5  13.3  12.9  12.3  15.3  14.3  14.8\n",
       "1    17.9  15.0  15.0  17.1  15.2  13.8  13.8  14.3  17.4  13.3\n",
       "2    18.8  13.5  10.9  17.1  13.1  10.6  15.3  13.5  18.5  15.6\n",
       "3    14.6  15.2  11.4  12.0  12.7  12.6  15.6  15.0  16.8  14.5\n",
       "4    15.8  13.0  14.8  11.0  14.6  13.7  16.2  13.6  11.5  14.3\n",
       "..    ...   ...   ...   ...   ...   ...   ...   ...   ...   ...\n",
       "360  15.5  15.3  13.9  12.2  11.5  14.6  16.2   9.5  13.3  14.0\n",
       "361  13.3  16.3  11.1  12.0  10.8  14.2  14.2  12.9  11.7  13.6\n",
       "362  15.6  15.8  16.1  12.6  12.0  13.2  14.3  12.9  10.4  13.5\n",
       "363  15.2  17.7  20.4  16.0  16.3  11.7  13.3  14.8  14.4  15.7\n",
       "364  17.4  16.3  18.0  16.4  14.4  17.2  16.7  14.1  12.7  13.0\n",
       "\n",
       "[365 rows x 10 columns]"
      ]
     },
     "execution_count": 46,
     "metadata": {},
     "output_type": "execute_result"
    }
   ],
   "source": [
    "# create a heat map of yearly data\n",
    "from pandas import read_csv\n",
    "from pandas import DataFrame\n",
    "from pandas import Grouper\n",
    "from matplotlib import pyplot\n",
    "series = read_csv('daily-min-temperatures.csv', header=0, index_col=0, parse_dates=True, squeeze=True)\n",
    "groups = series.groupby(Grouper(freq='A'))\n",
    "years = DataFrame()\n",
    "for name, group in groups:\n",
    "    years[name.year] = group.values\n",
    "years"
   ]
  },
  {
   "cell_type": "code",
   "execution_count": 47,
   "metadata": {},
   "outputs": [
    {
     "data": {
      "text/html": [
       "<div>\n",
       "<style scoped>\n",
       "    .dataframe tbody tr th:only-of-type {\n",
       "        vertical-align: middle;\n",
       "    }\n",
       "\n",
       "    .dataframe tbody tr th {\n",
       "        vertical-align: top;\n",
       "    }\n",
       "\n",
       "    .dataframe thead th {\n",
       "        text-align: right;\n",
       "    }\n",
       "</style>\n",
       "<table border=\"1\" class=\"dataframe\">\n",
       "  <thead>\n",
       "    <tr style=\"text-align: right;\">\n",
       "      <th></th>\n",
       "      <th>0</th>\n",
       "      <th>1</th>\n",
       "      <th>2</th>\n",
       "      <th>3</th>\n",
       "      <th>4</th>\n",
       "      <th>5</th>\n",
       "      <th>6</th>\n",
       "      <th>7</th>\n",
       "      <th>8</th>\n",
       "      <th>9</th>\n",
       "      <th>...</th>\n",
       "      <th>355</th>\n",
       "      <th>356</th>\n",
       "      <th>357</th>\n",
       "      <th>358</th>\n",
       "      <th>359</th>\n",
       "      <th>360</th>\n",
       "      <th>361</th>\n",
       "      <th>362</th>\n",
       "      <th>363</th>\n",
       "      <th>364</th>\n",
       "    </tr>\n",
       "  </thead>\n",
       "  <tbody>\n",
       "    <tr>\n",
       "      <th>1981</th>\n",
       "      <td>20.7</td>\n",
       "      <td>17.9</td>\n",
       "      <td>18.8</td>\n",
       "      <td>14.6</td>\n",
       "      <td>15.8</td>\n",
       "      <td>15.8</td>\n",
       "      <td>15.8</td>\n",
       "      <td>17.4</td>\n",
       "      <td>21.8</td>\n",
       "      <td>20.0</td>\n",
       "      <td>...</td>\n",
       "      <td>15.0</td>\n",
       "      <td>12.8</td>\n",
       "      <td>15.0</td>\n",
       "      <td>14.2</td>\n",
       "      <td>14.0</td>\n",
       "      <td>15.5</td>\n",
       "      <td>13.3</td>\n",
       "      <td>15.6</td>\n",
       "      <td>15.2</td>\n",
       "      <td>17.4</td>\n",
       "    </tr>\n",
       "    <tr>\n",
       "      <th>1982</th>\n",
       "      <td>17.0</td>\n",
       "      <td>15.0</td>\n",
       "      <td>13.5</td>\n",
       "      <td>15.2</td>\n",
       "      <td>13.0</td>\n",
       "      <td>12.5</td>\n",
       "      <td>14.1</td>\n",
       "      <td>14.8</td>\n",
       "      <td>16.2</td>\n",
       "      <td>15.8</td>\n",
       "      <td>...</td>\n",
       "      <td>10.8</td>\n",
       "      <td>15.6</td>\n",
       "      <td>15.3</td>\n",
       "      <td>13.9</td>\n",
       "      <td>13.0</td>\n",
       "      <td>15.3</td>\n",
       "      <td>16.3</td>\n",
       "      <td>15.8</td>\n",
       "      <td>17.7</td>\n",
       "      <td>16.3</td>\n",
       "    </tr>\n",
       "    <tr>\n",
       "      <th>1983</th>\n",
       "      <td>18.4</td>\n",
       "      <td>15.0</td>\n",
       "      <td>10.9</td>\n",
       "      <td>11.4</td>\n",
       "      <td>14.8</td>\n",
       "      <td>12.1</td>\n",
       "      <td>12.8</td>\n",
       "      <td>16.2</td>\n",
       "      <td>15.5</td>\n",
       "      <td>13.0</td>\n",
       "      <td>...</td>\n",
       "      <td>12.2</td>\n",
       "      <td>16.7</td>\n",
       "      <td>13.8</td>\n",
       "      <td>17.5</td>\n",
       "      <td>15.0</td>\n",
       "      <td>13.9</td>\n",
       "      <td>11.1</td>\n",
       "      <td>16.1</td>\n",
       "      <td>20.4</td>\n",
       "      <td>18.0</td>\n",
       "    </tr>\n",
       "    <tr>\n",
       "      <th>1984</th>\n",
       "      <td>19.5</td>\n",
       "      <td>17.1</td>\n",
       "      <td>17.1</td>\n",
       "      <td>12.0</td>\n",
       "      <td>11.0</td>\n",
       "      <td>16.3</td>\n",
       "      <td>16.1</td>\n",
       "      <td>13.0</td>\n",
       "      <td>13.4</td>\n",
       "      <td>15.2</td>\n",
       "      <td>...</td>\n",
       "      <td>14.2</td>\n",
       "      <td>11.4</td>\n",
       "      <td>13.7</td>\n",
       "      <td>16.5</td>\n",
       "      <td>12.8</td>\n",
       "      <td>12.2</td>\n",
       "      <td>12.0</td>\n",
       "      <td>12.6</td>\n",
       "      <td>16.0</td>\n",
       "      <td>16.4</td>\n",
       "    </tr>\n",
       "    <tr>\n",
       "      <th>1985</th>\n",
       "      <td>13.3</td>\n",
       "      <td>15.2</td>\n",
       "      <td>13.1</td>\n",
       "      <td>12.7</td>\n",
       "      <td>14.6</td>\n",
       "      <td>11.0</td>\n",
       "      <td>13.2</td>\n",
       "      <td>12.2</td>\n",
       "      <td>14.4</td>\n",
       "      <td>13.7</td>\n",
       "      <td>...</td>\n",
       "      <td>13.7</td>\n",
       "      <td>12.0</td>\n",
       "      <td>13.1</td>\n",
       "      <td>13.2</td>\n",
       "      <td>13.3</td>\n",
       "      <td>11.5</td>\n",
       "      <td>10.8</td>\n",
       "      <td>12.0</td>\n",
       "      <td>16.3</td>\n",
       "      <td>14.4</td>\n",
       "    </tr>\n",
       "    <tr>\n",
       "      <th>1986</th>\n",
       "      <td>12.9</td>\n",
       "      <td>13.8</td>\n",
       "      <td>10.6</td>\n",
       "      <td>12.6</td>\n",
       "      <td>13.7</td>\n",
       "      <td>12.6</td>\n",
       "      <td>13.1</td>\n",
       "      <td>15.4</td>\n",
       "      <td>11.9</td>\n",
       "      <td>13.8</td>\n",
       "      <td>...</td>\n",
       "      <td>11.6</td>\n",
       "      <td>9.7</td>\n",
       "      <td>13.4</td>\n",
       "      <td>10.5</td>\n",
       "      <td>14.7</td>\n",
       "      <td>14.6</td>\n",
       "      <td>14.2</td>\n",
       "      <td>13.2</td>\n",
       "      <td>11.7</td>\n",
       "      <td>17.2</td>\n",
       "    </tr>\n",
       "    <tr>\n",
       "      <th>1987</th>\n",
       "      <td>12.3</td>\n",
       "      <td>13.8</td>\n",
       "      <td>15.3</td>\n",
       "      <td>15.6</td>\n",
       "      <td>16.2</td>\n",
       "      <td>16.3</td>\n",
       "      <td>16.8</td>\n",
       "      <td>11.0</td>\n",
       "      <td>8.5</td>\n",
       "      <td>13.2</td>\n",
       "      <td>...</td>\n",
       "      <td>11.2</td>\n",
       "      <td>11.4</td>\n",
       "      <td>11.2</td>\n",
       "      <td>12.1</td>\n",
       "      <td>12.7</td>\n",
       "      <td>16.2</td>\n",
       "      <td>14.2</td>\n",
       "      <td>14.3</td>\n",
       "      <td>13.3</td>\n",
       "      <td>16.7</td>\n",
       "    </tr>\n",
       "    <tr>\n",
       "      <th>1988</th>\n",
       "      <td>15.3</td>\n",
       "      <td>14.3</td>\n",
       "      <td>13.5</td>\n",
       "      <td>15.0</td>\n",
       "      <td>13.6</td>\n",
       "      <td>15.2</td>\n",
       "      <td>17.0</td>\n",
       "      <td>18.7</td>\n",
       "      <td>16.5</td>\n",
       "      <td>17.4</td>\n",
       "      <td>...</td>\n",
       "      <td>11.9</td>\n",
       "      <td>15.2</td>\n",
       "      <td>17.3</td>\n",
       "      <td>19.8</td>\n",
       "      <td>15.8</td>\n",
       "      <td>9.5</td>\n",
       "      <td>12.9</td>\n",
       "      <td>12.9</td>\n",
       "      <td>14.8</td>\n",
       "      <td>14.1</td>\n",
       "    </tr>\n",
       "    <tr>\n",
       "      <th>1989</th>\n",
       "      <td>14.3</td>\n",
       "      <td>17.4</td>\n",
       "      <td>18.5</td>\n",
       "      <td>16.8</td>\n",
       "      <td>11.5</td>\n",
       "      <td>9.5</td>\n",
       "      <td>12.2</td>\n",
       "      <td>15.7</td>\n",
       "      <td>16.3</td>\n",
       "      <td>13.6</td>\n",
       "      <td>...</td>\n",
       "      <td>11.8</td>\n",
       "      <td>12.0</td>\n",
       "      <td>12.7</td>\n",
       "      <td>16.4</td>\n",
       "      <td>16.0</td>\n",
       "      <td>13.3</td>\n",
       "      <td>11.7</td>\n",
       "      <td>10.4</td>\n",
       "      <td>14.4</td>\n",
       "      <td>12.7</td>\n",
       "    </tr>\n",
       "    <tr>\n",
       "      <th>1990</th>\n",
       "      <td>14.8</td>\n",
       "      <td>13.3</td>\n",
       "      <td>15.6</td>\n",
       "      <td>14.5</td>\n",
       "      <td>14.3</td>\n",
       "      <td>15.3</td>\n",
       "      <td>16.4</td>\n",
       "      <td>14.8</td>\n",
       "      <td>17.4</td>\n",
       "      <td>18.8</td>\n",
       "      <td>...</td>\n",
       "      <td>13.2</td>\n",
       "      <td>13.9</td>\n",
       "      <td>10.0</td>\n",
       "      <td>12.9</td>\n",
       "      <td>14.6</td>\n",
       "      <td>14.0</td>\n",
       "      <td>13.6</td>\n",
       "      <td>13.5</td>\n",
       "      <td>15.7</td>\n",
       "      <td>13.0</td>\n",
       "    </tr>\n",
       "  </tbody>\n",
       "</table>\n",
       "<p>10 rows × 365 columns</p>\n",
       "</div>"
      ],
      "text/plain": [
       "       0     1     2     3     4     5     6     7     8     9    ...   355  \\\n",
       "1981  20.7  17.9  18.8  14.6  15.8  15.8  15.8  17.4  21.8  20.0  ...  15.0   \n",
       "1982  17.0  15.0  13.5  15.2  13.0  12.5  14.1  14.8  16.2  15.8  ...  10.8   \n",
       "1983  18.4  15.0  10.9  11.4  14.8  12.1  12.8  16.2  15.5  13.0  ...  12.2   \n",
       "1984  19.5  17.1  17.1  12.0  11.0  16.3  16.1  13.0  13.4  15.2  ...  14.2   \n",
       "1985  13.3  15.2  13.1  12.7  14.6  11.0  13.2  12.2  14.4  13.7  ...  13.7   \n",
       "1986  12.9  13.8  10.6  12.6  13.7  12.6  13.1  15.4  11.9  13.8  ...  11.6   \n",
       "1987  12.3  13.8  15.3  15.6  16.2  16.3  16.8  11.0   8.5  13.2  ...  11.2   \n",
       "1988  15.3  14.3  13.5  15.0  13.6  15.2  17.0  18.7  16.5  17.4  ...  11.9   \n",
       "1989  14.3  17.4  18.5  16.8  11.5   9.5  12.2  15.7  16.3  13.6  ...  11.8   \n",
       "1990  14.8  13.3  15.6  14.5  14.3  15.3  16.4  14.8  17.4  18.8  ...  13.2   \n",
       "\n",
       "       356   357   358   359   360   361   362   363   364  \n",
       "1981  12.8  15.0  14.2  14.0  15.5  13.3  15.6  15.2  17.4  \n",
       "1982  15.6  15.3  13.9  13.0  15.3  16.3  15.8  17.7  16.3  \n",
       "1983  16.7  13.8  17.5  15.0  13.9  11.1  16.1  20.4  18.0  \n",
       "1984  11.4  13.7  16.5  12.8  12.2  12.0  12.6  16.0  16.4  \n",
       "1985  12.0  13.1  13.2  13.3  11.5  10.8  12.0  16.3  14.4  \n",
       "1986   9.7  13.4  10.5  14.7  14.6  14.2  13.2  11.7  17.2  \n",
       "1987  11.4  11.2  12.1  12.7  16.2  14.2  14.3  13.3  16.7  \n",
       "1988  15.2  17.3  19.8  15.8   9.5  12.9  12.9  14.8  14.1  \n",
       "1989  12.0  12.7  16.4  16.0  13.3  11.7  10.4  14.4  12.7  \n",
       "1990  13.9  10.0  12.9  14.6  14.0  13.6  13.5  15.7  13.0  \n",
       "\n",
       "[10 rows x 365 columns]"
      ]
     },
     "execution_count": 47,
     "metadata": {},
     "output_type": "execute_result"
    }
   ],
   "source": [
    "years = years.T\n",
    "years"
   ]
  },
  {
   "cell_type": "code",
   "execution_count": 48,
   "metadata": {},
   "outputs": [
    {
     "data": {
      "image/png": "[encoded data removed]",
      "text/plain": [
       "<Figure size 1152x144 with 1 Axes>"
      ]
     },
     "metadata": {
      "needs_background": "light"
     },
     "output_type": "display_data"
    }
   ],
   "source": [
    "pyplot.matshow(years, interpolation=None, aspect='auto')\n",
    "pyplot.show()"
   ]
  },
  {
   "cell_type": "code",
   "execution_count": 52,
   "metadata": {},
   "outputs": [
    {
     "data": {
      "text/plain": [
       "Date\n",
       "1990-01-01    14.8\n",
       "1990-01-02    13.3\n",
       "1990-01-03    15.6\n",
       "1990-01-04    14.5\n",
       "1990-01-05    14.3\n",
       "Name: Temp, dtype: float64"
      ]
     },
     "execution_count": 52,
     "metadata": {},
     "output_type": "execute_result"
    }
   ],
   "source": [
    "# Filter temperature data of the year of 1990\n",
    "df_year1990 = df['1990']\n",
    "df_year1990.head()"
   ]
  },
  {
   "cell_type": "code",
   "execution_count": 53,
   "metadata": {},
   "outputs": [
    {
     "data": {
      "text/plain": [
       "Date\n",
       "1990-01-01    14.8\n",
       "1990-01-02    13.3\n",
       "1990-01-03    15.6\n",
       "1990-01-04    14.5\n",
       "1990-01-05    14.3\n",
       "1990-02-01    12.0\n",
       "1990-02-02    12.2\n",
       "1990-02-03    14.8\n",
       "1990-02-04    14.8\n",
       "1990-02-05    14.4\n",
       "1990-03-01    19.3\n",
       "1990-03-02    17.3\n",
       "1990-03-03    19.0\n",
       "1990-03-04    19.8\n",
       "1990-03-05    19.3\n",
       "1990-04-01    15.3\n",
       "1990-04-02    14.7\n",
       "1990-04-03    11.0\n",
       "1990-04-04    12.2\n",
       "1990-04-05    14.2\n",
       "1990-05-01    13.0\n",
       "1990-05-02    13.9\n",
       "1990-05-03    12.6\n",
       "1990-05-04    14.3\n",
       "1990-05-05    16.0\n",
       "1990-06-01     9.7\n",
       "1990-06-02     8.2\n",
       "1990-06-03     8.4\n",
       "1990-06-04     8.5\n",
       "1990-06-05    10.4\n",
       "1990-07-01     7.4\n",
       "1990-07-02     7.3\n",
       "1990-07-03     7.7\n",
       "1990-07-04     7.7\n",
       "1990-07-05     9.3\n",
       "1990-08-01     6.8\n",
       "1990-08-02     9.8\n",
       "1990-08-03     5.7\n",
       "1990-08-04     8.6\n",
       "1990-08-05    10.6\n",
       "1990-09-01     6.0\n",
       "1990-09-02     9.5\n",
       "1990-09-03     8.6\n",
       "1990-09-04     7.6\n",
       "1990-09-05    10.4\n",
       "1990-10-01    11.3\n",
       "1990-10-02    10.5\n",
       "1990-10-03     9.9\n",
       "1990-10-04    11.0\n",
       "1990-10-05    14.0\n",
       "1990-11-01    15.4\n",
       "1990-11-02    11.8\n",
       "1990-11-03    13.0\n",
       "1990-11-04    11.1\n",
       "1990-11-05    12.5\n",
       "1990-12-01    13.3\n",
       "1990-12-02    13.2\n",
       "1990-12-03    16.2\n",
       "1990-12-04    17.3\n",
       "1990-12-05    20.5\n",
       "Name: Temp, dtype: float64"
      ]
     },
     "execution_count": 53,
     "metadata": {},
     "output_type": "execute_result"
    }
   ],
   "source": [
    "g_MonthsOf1990 = df_1990.groupby(pd.Grouper(freq=\"M\"))\n",
    "g_MonthsOf1990.head()"
   ]
  },
  {
   "cell_type": "code",
   "execution_count": 60,
   "metadata": {},
   "outputs": [
    {
     "data": {
      "text/html": [
       "<div>\n",
       "<style scoped>\n",
       "    .dataframe tbody tr th:only-of-type {\n",
       "        vertical-align: middle;\n",
       "    }\n",
       "\n",
       "    .dataframe tbody tr th {\n",
       "        vertical-align: top;\n",
       "    }\n",
       "\n",
       "    .dataframe thead th {\n",
       "        text-align: right;\n",
       "    }\n",
       "</style>\n",
       "<table border=\"1\" class=\"dataframe\">\n",
       "  <thead>\n",
       "    <tr style=\"text-align: right;\">\n",
       "      <th></th>\n",
       "      <th>1</th>\n",
       "      <th>2</th>\n",
       "      <th>3</th>\n",
       "      <th>4</th>\n",
       "      <th>5</th>\n",
       "      <th>6</th>\n",
       "      <th>7</th>\n",
       "      <th>8</th>\n",
       "      <th>9</th>\n",
       "      <th>10</th>\n",
       "      <th>11</th>\n",
       "      <th>12</th>\n",
       "    </tr>\n",
       "  </thead>\n",
       "  <tbody>\n",
       "    <tr>\n",
       "      <th>0</th>\n",
       "      <td>14.8</td>\n",
       "      <td>12.0</td>\n",
       "      <td>19.3</td>\n",
       "      <td>15.3</td>\n",
       "      <td>13.0</td>\n",
       "      <td>9.7</td>\n",
       "      <td>7.4</td>\n",
       "      <td>6.8</td>\n",
       "      <td>6.0</td>\n",
       "      <td>11.3</td>\n",
       "      <td>15.4</td>\n",
       "      <td>13.3</td>\n",
       "    </tr>\n",
       "    <tr>\n",
       "      <th>1</th>\n",
       "      <td>13.3</td>\n",
       "      <td>12.2</td>\n",
       "      <td>17.3</td>\n",
       "      <td>14.7</td>\n",
       "      <td>13.9</td>\n",
       "      <td>8.2</td>\n",
       "      <td>7.3</td>\n",
       "      <td>9.8</td>\n",
       "      <td>9.5</td>\n",
       "      <td>10.5</td>\n",
       "      <td>11.8</td>\n",
       "      <td>13.2</td>\n",
       "    </tr>\n",
       "    <tr>\n",
       "      <th>2</th>\n",
       "      <td>15.6</td>\n",
       "      <td>14.8</td>\n",
       "      <td>19.0</td>\n",
       "      <td>11.0</td>\n",
       "      <td>12.6</td>\n",
       "      <td>8.4</td>\n",
       "      <td>7.7</td>\n",
       "      <td>5.7</td>\n",
       "      <td>8.6</td>\n",
       "      <td>9.9</td>\n",
       "      <td>13.0</td>\n",
       "      <td>16.2</td>\n",
       "    </tr>\n",
       "    <tr>\n",
       "      <th>3</th>\n",
       "      <td>14.5</td>\n",
       "      <td>14.8</td>\n",
       "      <td>19.8</td>\n",
       "      <td>12.2</td>\n",
       "      <td>14.3</td>\n",
       "      <td>8.5</td>\n",
       "      <td>7.7</td>\n",
       "      <td>8.6</td>\n",
       "      <td>7.6</td>\n",
       "      <td>11.0</td>\n",
       "      <td>11.1</td>\n",
       "      <td>17.3</td>\n",
       "    </tr>\n",
       "    <tr>\n",
       "      <th>4</th>\n",
       "      <td>14.3</td>\n",
       "      <td>14.4</td>\n",
       "      <td>19.3</td>\n",
       "      <td>14.2</td>\n",
       "      <td>16.0</td>\n",
       "      <td>10.4</td>\n",
       "      <td>9.3</td>\n",
       "      <td>10.6</td>\n",
       "      <td>10.4</td>\n",
       "      <td>14.0</td>\n",
       "      <td>12.5</td>\n",
       "      <td>20.5</td>\n",
       "    </tr>\n",
       "  </tbody>\n",
       "</table>\n",
       "</div>"
      ],
      "text/plain": [
       "     1     2     3     4     5     6    7     8     9     10    11    12\n",
       "0  14.8  12.0  19.3  15.3  13.0   9.7  7.4   6.8   6.0  11.3  15.4  13.3\n",
       "1  13.3  12.2  17.3  14.7  13.9   8.2  7.3   9.8   9.5  10.5  11.8  13.2\n",
       "2  15.6  14.8  19.0  11.0  12.6   8.4  7.7   5.7   8.6   9.9  13.0  16.2\n",
       "3  14.5  14.8  19.8  12.2  14.3   8.5  7.7   8.6   7.6  11.0  11.1  17.3\n",
       "4  14.3  14.4  19.3  14.2  16.0  10.4  9.3  10.6  10.4  14.0  12.5  20.5"
      ]
     },
     "execution_count": 60,
     "metadata": {},
     "output_type": "execute_result"
    }
   ],
   "source": [
    "months = pd.DataFrame()\n",
    "for group, g_data in g_MonthsOf1990:\n",
    "    months[group.month] = pd.Series(g_data.values)\n",
    "   \n",
    "months.head()"
   ]
  },
  {
   "cell_type": "code",
   "execution_count": 61,
   "metadata": {},
   "outputs": [
    {
     "data": {
      "image/png": "[encoded data removed]",
      "text/plain": [
       "<Figure size 288x744 with 1 Axes>"
      ]
     },
     "metadata": {
      "needs_background": "light"
     },
     "output_type": "display_data"
    }
   ],
   "source": [
    "pyplot.matshow(months, interpolation=None, aspect='auto')\n",
    "pyplot.show()"
   ]
  },
  {
   "cell_type": "markdown",
   "metadata": {},
   "source": [
    "### 5. Lag Scatter Plots"
   ]
  },
  {
   "cell_type": "markdown",
   "metadata": {},
   "source": [
    "Time series modeling assumes a relationship between an observation and the previous observation. Previous observations in a time series are called lags, with the observation at the previous time step called lag1, the observation at two time steps ago lag=2, and so on. A useful type of plot to explore the relationship between each observation and a lag of that observation is called the scatter plot. Pandas has a built-in function for exactly this called the lag plot. It plots the observation at time t on the x-axis and the observation at the next time step (t+1) on the y-axis.\n",
    "+ If the points cluster along a diagonal line from the bottom-left to the top-right of the plot,\n",
    "it suggests a positive correlation relationship.\n",
    "+ If the points cluster along a diagonal line from the top-left to the bottom-right, it suggests\n",
    "a negative correlation relationship.\n",
    "+ Either relationship is good as they can be modeled.\n",
    "More points tighter in to the diagonal line suggests a stronger relationship and more spread from the line suggests a weaker relationship. A ball in the middle or a spread across the plot suggests a weak or no  relationship. Below is an example of a lag plot for the Minimum Daily Temperatures dataset"
   ]
  },
  {
   "cell_type": "code",
   "execution_count": 63,
   "metadata": {},
   "outputs": [
    {
     "data": {
      "image/png": "[encoded data removed]",
      "text/plain": [
       "<Figure size 432x288 with 1 Axes>"
      ]
     },
     "metadata": {
      "needs_background": "light"
     },
     "output_type": "display_data"
    }
   ],
   "source": [
    "pd.plotting.lag_plot(df)\n",
    "pyplot.show()"
   ]
  },
  {
   "cell_type": "markdown",
   "metadata": {},
   "source": [
    "Notes:\n",
    "- Lag plot is useful to plot outliers.\n",
    "- In this model, it suggests a positive correlation relationship."
   ]
  },
  {
   "cell_type": "code",
   "execution_count": null,
   "metadata": {},
   "outputs": [],
   "source": [
    "values = DataFrame(series.values)\n",
    "lags = 7\n",
    "columns = [values]\n",
    "for i in range(1,(lags + 1)):\n",
    "    columns.append(values.shift(i))\n",
    "    \n",
    "dataframe = concat(columns, axis=1)\n",
    "\n",
    "columns = ['t']\n",
    "for i in range(1,(lags + 1)):\n",
    "    columns.append('t-' + str(i))\n",
    "    \n",
    "dataframe.columns = columns\n",
    "pyplot.figure(1)\n",
    "for i in range(1,(lags + 1)):\n",
    "    ax = pyplot.subplot(240 + i)\n",
    "    ax.set_title('t vs t-' + str(i))\n",
    "    pyplot.scatter(x=dataframe['t'].values, y=dataframe['t-'+str(i)].values)\n",
    "pyplot.show()"
   ]
  },
  {
   "cell_type": "code",
   "execution_count": 101,
   "metadata": {},
   "outputs": [
    {
     "data": {
      "image/png": "[encoded data removed]",
      "text/plain": [
       "<Figure size 432x288 with 7 Axes>"
      ]
     },
     "metadata": {
      "needs_background": "light"
     },
     "output_type": "display_data"
    }
   ],
   "source": [
    "series = read_csv('daily-min-temperatures.csv', header=0, index_col=0, parse_dates=True, squeeze=True)\n",
    "\n",
    "# convert from Series to DataFrame\n",
    "values = DataFrame(series.values)\n",
    "\n",
    "lags = 7\n",
    "# create new list with only one element - values\n",
    "lst_Temp = [values]\n",
    "\n",
    "for i in range(1,(lags + 1)): # loop through 1 to 7\n",
    "    # add new element to the list\n",
    "    lst_Temp.append(values.shift(i))\n",
    "    \n",
    "# Call concat and pass param axis=1 to concatenate column-wise\n",
    "# The first arguments is a list to concatenate. Now, we have a list of eight elements.\n",
    "dataframe = pd.concat(lst_Temp, axis=1)\n",
    "\n",
    "# create column headers like this\n",
    "# ['t', 't-1', 't-2', 't-3', 't-4', 't-5', 't-6']\n",
    "columns = ['t']\n",
    "for i in range(1, lags+1):\n",
    "    columns.append('t-'+str(i))\n",
    "dataframe.columns = columns\n",
    "\n",
    "for i in range(1,(lags + 1)): # loop through 1 to 7\n",
    "    # Add a subplot to the current figure.\n",
    "    ax = pyplot.subplot(240 + i)\n",
    "    ax.set_title('t vs t-' + str(i))\n",
    "    pyplot.scatter(x=dataframe['t'].values, y=dataframe['t-'+str(i)].values)\n",
    "pyplot.show()"
   ]
  },
  {
   "cell_type": "markdown",
   "metadata": {},
   "source": [
    "### 6. Autocorrelation Plots"
   ]
  },
  {
   "cell_type": "code",
   "execution_count": null,
   "metadata": {},
   "outputs": [],
   "source": []
  },
  {
   "cell_type": "code",
   "execution_count": 102,
   "metadata": {},
   "outputs": [
    {
     "data": {
      "image/png": "[encoded data removed]",
      "text/plain": [
       "<Figure size 432x288 with 1 Axes>"
      ]
     },
     "metadata": {
      "needs_background": "light"
     },
     "output_type": "display_data"
    }
   ],
   "source": [
    "from pandas.plotting import autocorrelation_plot\n",
    "autocorrelation_plot(df)\n",
    "pyplot.show()"
   ]
  },
  {
   "cell_type": "code",
   "execution_count": null,
   "metadata": {},
   "outputs": [],
   "source": []
  }
 ],
 "metadata": {
  "kernelspec": {
   "display_name": "Python 3",
   "language": "python",
   "name": "python3"
  },
  "language_info": {
   "codemirror_mode": {
    "name": "ipython",
    "version": 3
   },
   "file_extension": ".py",
   "mimetype": "text/x-python",
   "name": "python",
   "nbconvert_exporter": "python",
   "pygments_lexer": "ipython3",
   "version": "3.7.7"
  }
 },
 "nbformat": 4,
 "nbformat_minor": 4
}
